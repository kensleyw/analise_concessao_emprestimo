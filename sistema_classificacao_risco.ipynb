{
 "cells": [
  {
   "cell_type": "markdown",
   "metadata": {},
   "source": [
    "# Sistema de classificação de risco para concessão de empréstimo"
   ]
  },
  {
   "cell_type": "markdown",
   "metadata": {},
   "source": [
    "### Problema de negócio\n",
    "A empresa precisa analisar se o risco de inadimplência do cliente é baixo o suficiente para realizar o empréstimo de dinheiro. Nesse contexto, será necessário criar um sistema que realiza a classificação de cliente para aprovação de empréstimo."
   ]
  },
  {
   "cell_type": "markdown",
   "metadata": {},
   "source": [
    "### Análise exploratória de dados\n",
    "\n",
    "**Arquitetura de dados** (AD)\n",
    "- id_cliente: numero de identificação única do cliente\n",
    "- inad: índice de inadiplência do cliente\n",
    "- saldo_contas: índice referente aos saldos das contas correntes, poupanças e aplicações do cliente\n",
    "- class_renda: indice referente a classificação do cliente de acordo com sua renda\n",
    "- anotacoes: índice referente a anotações externas às empresas, tais como SERASA/SPC/BACEN\n",
    "- risco: risco do cliente atribuído dado as variáveis de análise do cliente"
   ]
  },
  {
   "cell_type": "code",
   "execution_count": 13,
   "metadata": {},
   "outputs": [],
   "source": [
    "# bibliotecas\n",
    "import pandas as pd\n",
    "import seaborn as sns\n",
    "from sklearn.model_selection import train_test_split\n",
    "from sklearn.preprocessing import StandardScaler\n",
    "from sklearn.linear_model import SGDClassifier, LogisticRegression\n",
    "from sklearn.metrics import accuracy_score, confusion_matrix\n",
    "from sklearn.ensemble import RandomForestClassifier\n",
    "from sklearn.neighbors import KNeighborsClassifier\n",
    "from sklearn.naive_bayes import GaussianNB\n",
    "from xgboost import XGBClassifier\n",
    "from joblib import dump\n",
    "import time\n"
   ]
  },
  {
   "cell_type": "code",
   "execution_count": 3,
   "metadata": {},
   "outputs": [
    {
     "data": {
      "text/html": [
       "<div>\n",
       "<style scoped>\n",
       "    .dataframe tbody tr th:only-of-type {\n",
       "        vertical-align: middle;\n",
       "    }\n",
       "\n",
       "    .dataframe tbody tr th {\n",
       "        vertical-align: top;\n",
       "    }\n",
       "\n",
       "    .dataframe thead th {\n",
       "        text-align: right;\n",
       "    }\n",
       "</style>\n",
       "<table border=\"1\" class=\"dataframe\">\n",
       "  <thead>\n",
       "    <tr style=\"text-align: right;\">\n",
       "      <th></th>\n",
       "      <th>id_cliente</th>\n",
       "      <th>anot_cadastrais</th>\n",
       "      <th>indice_inad</th>\n",
       "      <th>class_renda</th>\n",
       "      <th>saldo_contas</th>\n",
       "      <th>Risco</th>\n",
       "    </tr>\n",
       "  </thead>\n",
       "  <tbody>\n",
       "    <tr>\n",
       "      <th>0</th>\n",
       "      <td>0</td>\n",
       "      <td>5.1</td>\n",
       "      <td>3.5</td>\n",
       "      <td>1.4</td>\n",
       "      <td>0.2</td>\n",
       "      <td>Risco_Alto</td>\n",
       "    </tr>\n",
       "    <tr>\n",
       "      <th>1</th>\n",
       "      <td>1</td>\n",
       "      <td>4.9</td>\n",
       "      <td>3.0</td>\n",
       "      <td>1.4</td>\n",
       "      <td>0.2</td>\n",
       "      <td>Risco_Alto</td>\n",
       "    </tr>\n",
       "    <tr>\n",
       "      <th>2</th>\n",
       "      <td>2</td>\n",
       "      <td>4.7</td>\n",
       "      <td>3.2</td>\n",
       "      <td>1.3</td>\n",
       "      <td>0.2</td>\n",
       "      <td>Risco_Alto</td>\n",
       "    </tr>\n",
       "    <tr>\n",
       "      <th>3</th>\n",
       "      <td>3</td>\n",
       "      <td>4.6</td>\n",
       "      <td>3.1</td>\n",
       "      <td>1.5</td>\n",
       "      <td>0.2</td>\n",
       "      <td>Risco_Alto</td>\n",
       "    </tr>\n",
       "    <tr>\n",
       "      <th>4</th>\n",
       "      <td>4</td>\n",
       "      <td>5.0</td>\n",
       "      <td>3.6</td>\n",
       "      <td>1.4</td>\n",
       "      <td>0.2</td>\n",
       "      <td>Risco_Alto</td>\n",
       "    </tr>\n",
       "  </tbody>\n",
       "</table>\n",
       "</div>"
      ],
      "text/plain": [
       "   id_cliente  anot_cadastrais  indice_inad  class_renda  saldo_contas  \\\n",
       "0           0              5.1          3.5          1.4           0.2   \n",
       "1           1              4.9          3.0          1.4           0.2   \n",
       "2           2              4.7          3.2          1.3           0.2   \n",
       "3           3              4.6          3.1          1.5           0.2   \n",
       "4           4              5.0          3.6          1.4           0.2   \n",
       "\n",
       "        Risco  \n",
       "0  Risco_Alto  \n",
       "1  Risco_Alto  \n",
       "2  Risco_Alto  \n",
       "3  Risco_Alto  \n",
       "4  Risco_Alto  "
      ]
     },
     "execution_count": 3,
     "metadata": {},
     "output_type": "execute_result"
    }
   ],
   "source": [
    "# carga de dados\n",
    "dados = pd.read_csv(\"dados/risco.csv\")\n",
    "\n",
    "dados.head()"
   ]
  },
  {
   "cell_type": "code",
   "execution_count": null,
   "metadata": {},
   "outputs": [],
   "source": [
    "# verifica se há dados duplicados\n",
    "dados.duplicated().sum()"
   ]
  },
  {
   "cell_type": "code",
   "execution_count": null,
   "metadata": {},
   "outputs": [],
   "source": [
    "# verifica se há dados vazios\n",
    "dados.isna().sum()"
   ]
  },
  {
   "cell_type": "code",
   "execution_count": null,
   "metadata": {},
   "outputs": [],
   "source": [
    "# verifica os tipos de dados\n",
    "dados.dtypes"
   ]
  },
  {
   "cell_type": "code",
   "execution_count": null,
   "metadata": {},
   "outputs": [],
   "source": [
    "# verifica os dados de cada coluna\n",
    "dados.Risco.value_counts()"
   ]
  },
  {
   "cell_type": "code",
   "execution_count": null,
   "metadata": {},
   "outputs": [],
   "source": [
    "# transforma os dados da variável \"risco\" (label encoder) \n",
    "dados['Risco'] = dados['Risco'].map({\"Risco_Baixo\" : 0, \"Risco_Medio\" : 1, \"Risco_Alto\" : 2})"
   ]
  },
  {
   "cell_type": "code",
   "execution_count": null,
   "metadata": {},
   "outputs": [],
   "source": [
    "# correlação dos dados\n",
    "#display(dados.corr())\n",
    "\n",
    "sns.heatmap(dados.corr(), annot=True)\n",
    "\n"
   ]
  },
  {
   "cell_type": "code",
   "execution_count": null,
   "metadata": {},
   "outputs": [],
   "source": [
    "# \n",
    "dados.describe()\n",
    "\n",
    "sns.histplot(dados, x='Risco', y='saldo_contas')\n",
    "sns.boxplot(dados, x='Risco', y='saldo_contas')\n"
   ]
  },
  {
   "cell_type": "code",
   "execution_count": null,
   "metadata": {},
   "outputs": [],
   "source": [
    "sns.pairplot(dados, kind=\"reg\", hue='Risco')"
   ]
  },
  {
   "cell_type": "markdown",
   "metadata": {},
   "source": [
    "### Pré-processamento de dados"
   ]
  },
  {
   "cell_type": "code",
   "execution_count": 4,
   "metadata": {},
   "outputs": [
    {
     "data": {
      "text/html": [
       "<div>\n",
       "<style scoped>\n",
       "    .dataframe tbody tr th:only-of-type {\n",
       "        vertical-align: middle;\n",
       "    }\n",
       "\n",
       "    .dataframe tbody tr th {\n",
       "        vertical-align: top;\n",
       "    }\n",
       "\n",
       "    .dataframe thead th {\n",
       "        text-align: right;\n",
       "    }\n",
       "</style>\n",
       "<table border=\"1\" class=\"dataframe\">\n",
       "  <thead>\n",
       "    <tr style=\"text-align: right;\">\n",
       "      <th></th>\n",
       "      <th>anot_cadastrais</th>\n",
       "      <th>indice_inad</th>\n",
       "      <th>class_renda</th>\n",
       "      <th>saldo_contas</th>\n",
       "      <th>Risco</th>\n",
       "    </tr>\n",
       "  </thead>\n",
       "  <tbody>\n",
       "    <tr>\n",
       "      <th>0</th>\n",
       "      <td>5.1</td>\n",
       "      <td>3.5</td>\n",
       "      <td>1.4</td>\n",
       "      <td>0.2</td>\n",
       "      <td>Risco_Alto</td>\n",
       "    </tr>\n",
       "    <tr>\n",
       "      <th>1</th>\n",
       "      <td>4.9</td>\n",
       "      <td>3.0</td>\n",
       "      <td>1.4</td>\n",
       "      <td>0.2</td>\n",
       "      <td>Risco_Alto</td>\n",
       "    </tr>\n",
       "    <tr>\n",
       "      <th>2</th>\n",
       "      <td>4.7</td>\n",
       "      <td>3.2</td>\n",
       "      <td>1.3</td>\n",
       "      <td>0.2</td>\n",
       "      <td>Risco_Alto</td>\n",
       "    </tr>\n",
       "    <tr>\n",
       "      <th>3</th>\n",
       "      <td>4.6</td>\n",
       "      <td>3.1</td>\n",
       "      <td>1.5</td>\n",
       "      <td>0.2</td>\n",
       "      <td>Risco_Alto</td>\n",
       "    </tr>\n",
       "    <tr>\n",
       "      <th>4</th>\n",
       "      <td>5.0</td>\n",
       "      <td>3.6</td>\n",
       "      <td>1.4</td>\n",
       "      <td>0.2</td>\n",
       "      <td>Risco_Alto</td>\n",
       "    </tr>\n",
       "    <tr>\n",
       "      <th>...</th>\n",
       "      <td>...</td>\n",
       "      <td>...</td>\n",
       "      <td>...</td>\n",
       "      <td>...</td>\n",
       "      <td>...</td>\n",
       "    </tr>\n",
       "    <tr>\n",
       "      <th>145</th>\n",
       "      <td>6.7</td>\n",
       "      <td>3.0</td>\n",
       "      <td>5.2</td>\n",
       "      <td>2.3</td>\n",
       "      <td>Risco_Baixo</td>\n",
       "    </tr>\n",
       "    <tr>\n",
       "      <th>146</th>\n",
       "      <td>6.3</td>\n",
       "      <td>2.5</td>\n",
       "      <td>5.0</td>\n",
       "      <td>1.9</td>\n",
       "      <td>Risco_Baixo</td>\n",
       "    </tr>\n",
       "    <tr>\n",
       "      <th>147</th>\n",
       "      <td>6.5</td>\n",
       "      <td>3.0</td>\n",
       "      <td>5.2</td>\n",
       "      <td>2.0</td>\n",
       "      <td>Risco_Baixo</td>\n",
       "    </tr>\n",
       "    <tr>\n",
       "      <th>148</th>\n",
       "      <td>6.2</td>\n",
       "      <td>3.4</td>\n",
       "      <td>5.4</td>\n",
       "      <td>2.3</td>\n",
       "      <td>Risco_Baixo</td>\n",
       "    </tr>\n",
       "    <tr>\n",
       "      <th>149</th>\n",
       "      <td>5.9</td>\n",
       "      <td>3.0</td>\n",
       "      <td>5.1</td>\n",
       "      <td>1.8</td>\n",
       "      <td>Risco_Baixo</td>\n",
       "    </tr>\n",
       "  </tbody>\n",
       "</table>\n",
       "<p>150 rows × 5 columns</p>\n",
       "</div>"
      ],
      "text/plain": [
       "     anot_cadastrais  indice_inad  class_renda  saldo_contas        Risco\n",
       "0                5.1          3.5          1.4           0.2   Risco_Alto\n",
       "1                4.9          3.0          1.4           0.2   Risco_Alto\n",
       "2                4.7          3.2          1.3           0.2   Risco_Alto\n",
       "3                4.6          3.1          1.5           0.2   Risco_Alto\n",
       "4                5.0          3.6          1.4           0.2   Risco_Alto\n",
       "..               ...          ...          ...           ...          ...\n",
       "145              6.7          3.0          5.2           2.3  Risco_Baixo\n",
       "146              6.3          2.5          5.0           1.9  Risco_Baixo\n",
       "147              6.5          3.0          5.2           2.0  Risco_Baixo\n",
       "148              6.2          3.4          5.4           2.3  Risco_Baixo\n",
       "149              5.9          3.0          5.1           1.8  Risco_Baixo\n",
       "\n",
       "[150 rows x 5 columns]"
      ]
     },
     "execution_count": 4,
     "metadata": {},
     "output_type": "execute_result"
    }
   ],
   "source": [
    "#remove colunas desnecessárias\n",
    "dados.drop(columns=['id_cliente'], inplace=True)\n",
    "dados"
   ]
  },
  {
   "cell_type": "code",
   "execution_count": 6,
   "metadata": {},
   "outputs": [],
   "source": [
    "#separacao das variáveis independentes e a variável dependente (target)\n",
    "\n",
    "x = dados.drop(columns='Risco')\n",
    "y = dados['Risco']\n"
   ]
  },
  {
   "cell_type": "code",
   "execution_count": 7,
   "metadata": {},
   "outputs": [
    {
     "data": {
      "text/plain": [
       "(45, 4)"
      ]
     },
     "execution_count": 7,
     "metadata": {},
     "output_type": "execute_result"
    }
   ],
   "source": [
    "# Separa os dados de treino e de teste\n",
    "x_train, x_test, y_train, y_test = train_test_split(x, y, test_size=0.3, random_state=7)\n",
    "\n",
    "x_test.shape"
   ]
  },
  {
   "cell_type": "code",
   "execution_count": 15,
   "metadata": {},
   "outputs": [
    {
     "data": {
      "text/plain": [
       "['standard_scaler.joblib']"
      ]
     },
     "execution_count": 15,
     "metadata": {},
     "output_type": "execute_result"
    }
   ],
   "source": [
    "# padroniza os dados de treino (fit) e de teste (transform) com StandardScaler\n",
    "scaler = StandardScaler()\n",
    "\n",
    "x_train = scaler.fit_transform(x_train)\n",
    "x_test = scaler.transform(x_test)\n",
    "\n",
    "x_test.shape\n",
    "\n",
    "dump(scaler, \"standard_scaler.joblib\")\n",
    "\n"
   ]
  },
  {
   "cell_type": "markdown",
   "metadata": {},
   "source": [
    "### Criação do modelo preditivo"
   ]
  },
  {
   "cell_type": "code",
   "execution_count": 11,
   "metadata": {},
   "outputs": [],
   "source": [
    "#função que printa os resultados\n",
    "def imprime_resultado(nome, acuracia, confusion_matrix):\n",
    "    print(\"\\n\\n=========================\")\n",
    "    print(f\"Modelo: {nome}\")\n",
    "    print(f\"Acuracia: {acuracia}\")\n",
    "    print(confusion_matrix)\n",
    "    "
   ]
  },
  {
   "cell_type": "code",
   "execution_count": null,
   "metadata": {},
   "outputs": [],
   "source": [
    "from sklearn.svm import SVC\n",
    "\n",
    "#cria uma avaliação de qual melhor modelo usar\n",
    "dic_model = {\n",
    "             #\"SGDClassifier\" : SGDClassifier(),\n",
    "             #\"LogisticRegression\": LogisticRegression(),\n",
    "             #\"RandonForestClassifier\" : RandomForestClassifier(), \n",
    "             \"KNeighborsClassifier\" : KNeighborsClassifier(),\n",
    "             #\"GaussianNB\" : GaussianNB(),\n",
    "             #\"XGBClassifier\" : XGBClassifier(),\n",
    "             \"SVC\" : SVC()}\n",
    "\n",
    "\n",
    "for chave, model in dic_model.items():\n",
    "    tempo_inicial = time.time()\n",
    "    model.fit(x_train, y_train)\n",
    "    \n",
    "    y_predict = model.predict(x_test)\n",
    "    \n",
    "    acuracia = accuracy_score(y_test, y_predict)\n",
    "    cm = confusion_matrix(y_test, y_predict)\n",
    "    tempo_final = time.time()\n",
    "    imprime_resultado(chave, acuracia, cm)\n",
    "    print(f\"Tempo gasto: {tempo_final - tempo_inicial :.2f} segundos\")\n",
    "    "
   ]
  },
  {
   "cell_type": "code",
   "execution_count": 9,
   "metadata": {},
   "outputs": [],
   "source": [
    "# modelo escolhido pela melhor perfomance (acuracia e tempo)\n",
    "model = KNeighborsClassifier(\n",
    "    n_neighbors = 5 #default 5\n",
    "    ,weights = 'distance' #'uniform’, ‘distance'\n",
    "    ,leaf_size=30 #default 30\n",
    ")\n",
    "\n",
    "\n",
    "tempo_inicial = time.time()\n",
    "model.fit(x_train, y_train)\n",
    "\n",
    "y_predict = model.predict(x_test)\n",
    "\n"
   ]
  },
  {
   "cell_type": "markdown",
   "metadata": {},
   "source": [
    "### Avaliação do modelo preditivo"
   ]
  },
  {
   "cell_type": "code",
   "execution_count": 12,
   "metadata": {},
   "outputs": [
    {
     "name": "stdout",
     "output_type": "stream",
     "text": [
      "\n",
      "\n",
      "=========================\n",
      "Modelo: KNeighborsClassifier\n",
      "Acuracia: 0.9555555555555556\n",
      "[[12  0  0]\n",
      " [ 0 15  2]\n",
      " [ 0  0 16]]\n",
      "Tempo gasto: 37.60 segundos\n"
     ]
    }
   ],
   "source": [
    "acuracia = accuracy_score(y_test, y_predict)\n",
    "cm = confusion_matrix(y_test, y_predict)\n",
    "tempo_final = time.time()\n",
    "imprime_resultado('KNeighborsClassifier', acuracia, cm)\n",
    "print(f\"Tempo gasto: {tempo_final - tempo_inicial :.2f} segundos\")\n",
    "\n"
   ]
  },
  {
   "cell_type": "code",
   "execution_count": 14,
   "metadata": {},
   "outputs": [
    {
     "data": {
      "text/plain": [
       "['model_class_risco.joblib']"
      ]
     },
     "execution_count": 14,
     "metadata": {},
     "output_type": "execute_result"
    }
   ],
   "source": [
    "# exporta o modelo\n",
    "dump(model, \"model_class_risco.joblib\")\n"
   ]
  }
 ],
 "metadata": {
  "kernelspec": {
   "display_name": "venv",
   "language": "python",
   "name": "python3"
  },
  "language_info": {
   "codemirror_mode": {
    "name": "ipython",
    "version": 3
   },
   "file_extension": ".py",
   "mimetype": "text/x-python",
   "name": "python",
   "nbconvert_exporter": "python",
   "pygments_lexer": "ipython3",
   "version": "3.12.1"
  }
 },
 "nbformat": 4,
 "nbformat_minor": 2
}
